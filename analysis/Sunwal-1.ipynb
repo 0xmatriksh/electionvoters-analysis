{
 "cells": [
  {
   "cell_type": "code",
   "execution_count": null,
   "id": "975298cd",
   "metadata": {},
   "outputs": [],
   "source": [
    "import numpy as np\n",
    "import pandas as pd"
   ]
  },
  {
   "cell_type": "code",
   "execution_count": null,
   "id": "18c6aa82",
   "metadata": {},
   "outputs": [],
   "source": [
    "df = pd.read_csv('sunwal1.csv')"
   ]
  },
  {
   "cell_type": "code",
   "execution_count": null,
   "id": "226d6644",
   "metadata": {},
   "outputs": [],
   "source": [
    "df.sample(5)"
   ]
  },
  {
   "cell_type": "code",
   "execution_count": null,
   "id": "b89ee640",
   "metadata": {},
   "outputs": [],
   "source": [
    "#remove biwarad column and serial number column\n",
    "df = df[['मतदाता नं','मतदाताको नाम','उमेर (वर्ष)','लिङ्ग','पति/पत्नीको नाम','पिता/माताको नाम']]"
   ]
  },
  {
   "cell_type": "code",
   "execution_count": null,
   "id": "30dc1ba7",
   "metadata": {},
   "outputs": [],
   "source": [
    "df.sample(5)"
   ]
  },
  {
   "cell_type": "code",
   "execution_count": null,
   "id": "34fca03b",
   "metadata": {},
   "outputs": [],
   "source": [
    "age_group = pd.cut(df['उमेर (वर्ष)'],bins=[16,25,35,45,55,65,np.inf],labels=['16-25','26-35','36-45','46-55','56-65','66+'])"
   ]
  },
  {
   "cell_type": "code",
   "execution_count": null,
   "id": "4244be82",
   "metadata": {},
   "outputs": [],
   "source": [
    "age_group.value_counts()"
   ]
  },
  {
   "cell_type": "code",
   "execution_count": null,
   "id": "3cc6ea37",
   "metadata": {},
   "outputs": [],
   "source": [
    "crosstb = pd.crosstab(age_group,df['लिङ्ग'])"
   ]
  },
  {
   "cell_type": "code",
   "execution_count": null,
   "id": "c0d5629d",
   "metadata": {},
   "outputs": [],
   "source": [
    "crosstb"
   ]
  },
  {
   "cell_type": "code",
   "execution_count": null,
   "id": "7170adb4",
   "metadata": {},
   "outputs": [],
   "source": [
    "import matplotlib.pyplot as plt\n",
    "plt.figure(figsize=(16,9))\n",
    "\n",
    "\n",
    "plt.rc('font', family='Lohit Devanagari',size=12)\n",
    "crosstb.plot.bar(rot=0)\n",
    "plt.title('सुनवल-१ मतदाता')\n",
    "plt.show()"
   ]
  },
  {
   "cell_type": "code",
   "execution_count": null,
   "id": "cf1ded54",
   "metadata": {},
   "outputs": [],
   "source": [
    "df['Maritial Status'] = ['Married' if len(x.replace(\" \",\"\"))>2 else 'Unmarried' for x in df['पति/पत्नीको नाम']]"
   ]
  },
  {
   "cell_type": "code",
   "execution_count": null,
   "id": "3ff78009",
   "metadata": {},
   "outputs": [],
   "source": [
    "plt.figure(figsize=(10,6))\n",
    "plt.rc('font',size=14)\n",
    "plt.title('Sunwal Ward 1 voters(Maritial Status)',fontsize=20)\n",
    "\n",
    "ax = df['Maritial Status'].value_counts().plot.bar(rot=0,color=['r','b'])\n",
    "ax.bar_label(ax.containers[0])\n",
    "plt.show()"
   ]
  },
  {
   "cell_type": "code",
   "execution_count": null,
   "id": "066738d2",
   "metadata": {},
   "outputs": [],
   "source": []
  },
  {
   "cell_type": "code",
   "execution_count": null,
   "id": "130f1296",
   "metadata": {},
   "outputs": [],
   "source": []
  }
 ],
 "metadata": {
  "kernelspec": {
   "display_name": "Python 3 (ipykernel)",
   "language": "python",
   "name": "python3"
  },
  "language_info": {
   "codemirror_mode": {
    "name": "ipython",
    "version": 3
   },
   "file_extension": ".py",
   "mimetype": "text/x-python",
   "name": "python",
   "nbconvert_exporter": "python",
   "pygments_lexer": "ipython3",
   "version": "3.9.12"
  }
 },
 "nbformat": 4,
 "nbformat_minor": 5
}
