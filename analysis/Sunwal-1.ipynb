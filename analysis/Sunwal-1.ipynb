{
 "cells": [
  {
   "cell_type": "markdown",
   "id": "e281e016",
   "metadata": {},
   "source": [
    "# Data Analysis of Sunwal-1 Voters"
   ]
  },
  {
   "cell_type": "code",
   "execution_count": 1,
   "id": "975298cd",
   "metadata": {},
   "outputs": [],
   "source": [
    "import numpy as np\n",
    "import pandas as pd\n",
    "import seaborn as sns"
   ]
  },
  {
   "cell_type": "code",
   "execution_count": 2,
   "id": "18c6aa82",
   "metadata": {},
   "outputs": [],
   "source": [
    "df = pd.read_csv('sunwal1.csv')"
   ]
  },
  {
   "cell_type": "markdown",
   "id": "07b070fd",
   "metadata": {},
   "source": [
    "## Sample of any five row from dataset"
   ]
  },
  {
   "cell_type": "code",
   "execution_count": 3,
   "id": "226d6644",
   "metadata": {},
   "outputs": [
    {
     "data": {
      "text/html": [
       "<div>\n",
       "<style scoped>\n",
       "    .dataframe tbody tr th:only-of-type {\n",
       "        vertical-align: middle;\n",
       "    }\n",
       "\n",
       "    .dataframe tbody tr th {\n",
       "        vertical-align: top;\n",
       "    }\n",
       "\n",
       "    .dataframe thead th {\n",
       "        text-align: right;\n",
       "    }\n",
       "</style>\n",
       "<table border=\"1\" class=\"dataframe\">\n",
       "  <thead>\n",
       "    <tr style=\"text-align: right;\">\n",
       "      <th></th>\n",
       "      <th>सि.नं.</th>\n",
       "      <th>मतदाता नं</th>\n",
       "      <th>मतदाताको नाम</th>\n",
       "      <th>उमेर (वर्ष)</th>\n",
       "      <th>लिङ्ग</th>\n",
       "      <th>पति/पत्नीको नाम</th>\n",
       "      <th>पिता/माताको नाम</th>\n",
       "      <th>विवरण</th>\n",
       "    </tr>\n",
       "  </thead>\n",
       "  <tbody>\n",
       "    <tr>\n",
       "      <th>249</th>\n",
       "      <td>250</td>\n",
       "      <td>12993441</td>\n",
       "      <td>ईश्‍वर बहादुर राना</td>\n",
       "      <td>49</td>\n",
       "      <td>पुरुष</td>\n",
       "      <td>तुल कुमारी</td>\n",
       "      <td>पदम / मीनु</td>\n",
       "      <td>NaN</td>\n",
       "    </tr>\n",
       "    <tr>\n",
       "      <th>724</th>\n",
       "      <td>725</td>\n",
       "      <td>7871028</td>\n",
       "      <td>गमी थापा</td>\n",
       "      <td>40</td>\n",
       "      <td>महिला</td>\n",
       "      <td>कटिक बहादुर</td>\n",
       "      <td>खिम बहादुर/ कला</td>\n",
       "      <td>NaN</td>\n",
       "    </tr>\n",
       "    <tr>\n",
       "      <th>2327</th>\n",
       "      <td>2328</td>\n",
       "      <td>13518786</td>\n",
       "      <td>मना देवी ढकाल</td>\n",
       "      <td>42</td>\n",
       "      <td>महिला</td>\n",
       "      <td>नारायण</td>\n",
       "      <td>तारा प्रसाद/ भुमकान्ती</td>\n",
       "      <td>NaN</td>\n",
       "    </tr>\n",
       "    <tr>\n",
       "      <th>2427</th>\n",
       "      <td>2428</td>\n",
       "      <td>13519478</td>\n",
       "      <td>मान बहादुर वि. क.</td>\n",
       "      <td>61</td>\n",
       "      <td>पुरुष</td>\n",
       "      <td>डिल माया वि.</td>\n",
       "      <td>विर बहादुर वि./ रविसरा वि.</td>\n",
       "      <td>NaN</td>\n",
       "    </tr>\n",
       "    <tr>\n",
       "      <th>1948</th>\n",
       "      <td>1949</td>\n",
       "      <td>12929753</td>\n",
       "      <td>प्रभु मल्ल</td>\n",
       "      <td>47</td>\n",
       "      <td>पुरुष</td>\n",
       "      <td>सारदा</td>\n",
       "      <td>चन्द्र बहादुर/ वाल कुमारी</td>\n",
       "      <td>NaN</td>\n",
       "    </tr>\n",
       "  </tbody>\n",
       "</table>\n",
       "</div>"
      ],
      "text/plain": [
       "      सि.नं.  मतदाता नं        मतदाताको नाम  उमेर (वर्ष)  लिङ्ग  \\\n",
       "249      250   12993441  ईश्‍वर बहादुर राना           49  पुरुष   \n",
       "724      725    7871028            गमी थापा           40  महिला   \n",
       "2327    2328   13518786       मना देवी ढकाल           42  महिला   \n",
       "2427    2428   13519478   मान बहादुर वि. क.           61  पुरुष   \n",
       "1948    1949   12929753          प्रभु मल्ल           47  पुरुष   \n",
       "\n",
       "     पति/पत्नीको नाम             पिता/माताको नाम  विवरण  \n",
       "249       तुल कुमारी                  पदम / मीनु    NaN  \n",
       "724      कटिक बहादुर             खिम बहादुर/ कला    NaN  \n",
       "2327          नारायण      तारा प्रसाद/ भुमकान्ती    NaN  \n",
       "2427    डिल माया वि.  विर बहादुर वि./ रविसरा वि.    NaN  \n",
       "1948           सारदा   चन्द्र बहादुर/ वाल कुमारी    NaN  "
      ]
     },
     "execution_count": 3,
     "metadata": {},
     "output_type": "execute_result"
    }
   ],
   "source": [
    "df.sample(5)"
   ]
  },
  {
   "cell_type": "markdown",
   "id": "7f0345ed",
   "metadata": {},
   "source": [
    "## Removing biwarad column and serial number column"
   ]
  },
  {
   "cell_type": "code",
   "execution_count": 4,
   "id": "64a8d813",
   "metadata": {},
   "outputs": [],
   "source": [
    "df = df[['मतदाता नं','मतदाताको नाम','उमेर (वर्ष)','लिङ्ग','पति/पत्नीको नाम','पिता/माताको नाम']]"
   ]
  },
  {
   "cell_type": "code",
   "execution_count": 5,
   "id": "30dc1ba7",
   "metadata": {},
   "outputs": [
    {
     "data": {
      "text/html": [
       "<div>\n",
       "<style scoped>\n",
       "    .dataframe tbody tr th:only-of-type {\n",
       "        vertical-align: middle;\n",
       "    }\n",
       "\n",
       "    .dataframe tbody tr th {\n",
       "        vertical-align: top;\n",
       "    }\n",
       "\n",
       "    .dataframe thead th {\n",
       "        text-align: right;\n",
       "    }\n",
       "</style>\n",
       "<table border=\"1\" class=\"dataframe\">\n",
       "  <thead>\n",
       "    <tr style=\"text-align: right;\">\n",
       "      <th></th>\n",
       "      <th>मतदाता नं</th>\n",
       "      <th>मतदाताको नाम</th>\n",
       "      <th>उमेर (वर्ष)</th>\n",
       "      <th>लिङ्ग</th>\n",
       "      <th>पति/पत्नीको नाम</th>\n",
       "      <th>पिता/माताको नाम</th>\n",
       "    </tr>\n",
       "  </thead>\n",
       "  <tbody>\n",
       "    <tr>\n",
       "      <th>699</th>\n",
       "      <td>13518792</td>\n",
       "      <td>गंगा बहादुर पुन</td>\n",
       "      <td>83</td>\n",
       "      <td>पुरुष</td>\n",
       "      <td>खुमा</td>\n",
       "      <td>कुविर / मन माया</td>\n",
       "    </tr>\n",
       "    <tr>\n",
       "      <th>715</th>\n",
       "      <td>16524669</td>\n",
       "      <td>गणेश नाथ कंवर</td>\n",
       "      <td>55</td>\n",
       "      <td>पुरुष</td>\n",
       "      <td>नुगा कुमारी कंवर</td>\n",
       "      <td>राम साजन/ जानकी</td>\n",
       "    </tr>\n",
       "    <tr>\n",
       "      <th>418</th>\n",
       "      <td>13517519</td>\n",
       "      <td>कल्पना भुसाल</td>\n",
       "      <td>41</td>\n",
       "      <td>महिला</td>\n",
       "      <td>यादव</td>\n",
       "      <td>जागनन्द / हेमा कुमारी</td>\n",
       "    </tr>\n",
       "    <tr>\n",
       "      <th>1054</th>\n",
       "      <td>19458710</td>\n",
       "      <td>ज्ञान बहादुर कंवर</td>\n",
       "      <td>26</td>\n",
       "      <td>पुरुष</td>\n",
       "      <td>-</td>\n",
       "      <td>गंगा नाथ कंवर/ जमुना</td>\n",
       "    </tr>\n",
       "    <tr>\n",
       "      <th>3330</th>\n",
       "      <td>13518724</td>\n",
       "      <td>विष्‍णु गौतम</td>\n",
       "      <td>57</td>\n",
       "      <td>महिला</td>\n",
       "      <td>डण्‍डपाणी</td>\n",
       "      <td>तिलक / तिलमाया</td>\n",
       "    </tr>\n",
       "  </tbody>\n",
       "</table>\n",
       "</div>"
      ],
      "text/plain": [
       "      मतदाता नं       मतदाताको नाम  उमेर (वर्ष)  लिङ्ग   पति/पत्नीको नाम  \\\n",
       "699    13518792    गंगा बहादुर पुन           83  पुरुष              खुमा   \n",
       "715    16524669      गणेश नाथ कंवर           55  पुरुष  नुगा कुमारी कंवर   \n",
       "418    13517519       कल्पना भुसाल           41  महिला              यादव   \n",
       "1054   19458710  ज्ञान बहादुर कंवर           26  पुरुष                 -   \n",
       "3330   13518724       विष्‍णु गौतम           57  महिला         डण्‍डपाणी   \n",
       "\n",
       "            पिता/माताको नाम  \n",
       "699         कुविर / मन माया  \n",
       "715         राम साजन/ जानकी  \n",
       "418   जागनन्द / हेमा कुमारी  \n",
       "1054   गंगा नाथ कंवर/ जमुना  \n",
       "3330         तिलक / तिलमाया  "
      ]
     },
     "execution_count": 5,
     "metadata": {},
     "output_type": "execute_result"
    }
   ],
   "source": [
    "df.sample(5)"
   ]
  },
  {
   "cell_type": "markdown",
   "id": "a0226d4e",
   "metadata": {},
   "source": [
    "## Total numbers of Voters"
   ]
  },
  {
   "cell_type": "code",
   "execution_count": 6,
   "id": "0732a277",
   "metadata": {},
   "outputs": [
    {
     "data": {
      "text/plain": [
       "4236"
      ]
     },
     "execution_count": 6,
     "metadata": {},
     "output_type": "execute_result"
    }
   ],
   "source": [
    "df.shape[0]"
   ]
  },
  {
   "cell_type": "code",
   "execution_count": 7,
   "id": "34fca03b",
   "metadata": {},
   "outputs": [],
   "source": [
    "age_group = pd.cut(df['उमेर (वर्ष)'],bins=[16,25,35,45,55,65,np.inf],labels=['16-25','26-35','36-45','46-55','56-65','66+'])"
   ]
  },
  {
   "cell_type": "code",
   "execution_count": 8,
   "id": "4244be82",
   "metadata": {},
   "outputs": [
    {
     "data": {
      "text/plain": [
       "26-35    1037\n",
       "36-45     909\n",
       "46-55     706\n",
       "16-25     633\n",
       "56-65     520\n",
       "66+       431\n",
       "Name: उमेर (वर्ष), dtype: int64"
      ]
     },
     "execution_count": 8,
     "metadata": {},
     "output_type": "execute_result"
    }
   ],
   "source": [
    "age_group.value_counts()"
   ]
  },
  {
   "cell_type": "code",
   "execution_count": 9,
   "id": "3cc6ea37",
   "metadata": {},
   "outputs": [],
   "source": [
    "crosstb = pd.crosstab(age_group,df['लिङ्ग'])"
   ]
  },
  {
   "cell_type": "code",
   "execution_count": 10,
   "id": "c0d5629d",
   "metadata": {},
   "outputs": [
    {
     "data": {
      "text/html": [
       "<div>\n",
       "<style scoped>\n",
       "    .dataframe tbody tr th:only-of-type {\n",
       "        vertical-align: middle;\n",
       "    }\n",
       "\n",
       "    .dataframe tbody tr th {\n",
       "        vertical-align: top;\n",
       "    }\n",
       "\n",
       "    .dataframe thead th {\n",
       "        text-align: right;\n",
       "    }\n",
       "</style>\n",
       "<table border=\"1\" class=\"dataframe\">\n",
       "  <thead>\n",
       "    <tr style=\"text-align: right;\">\n",
       "      <th>लिङ्ग</th>\n",
       "      <th>पुरुष</th>\n",
       "      <th>महिला</th>\n",
       "    </tr>\n",
       "    <tr>\n",
       "      <th>उमेर (वर्ष)</th>\n",
       "      <th></th>\n",
       "      <th></th>\n",
       "    </tr>\n",
       "  </thead>\n",
       "  <tbody>\n",
       "    <tr>\n",
       "      <th>16-25</th>\n",
       "      <td>343</td>\n",
       "      <td>290</td>\n",
       "    </tr>\n",
       "    <tr>\n",
       "      <th>26-35</th>\n",
       "      <td>456</td>\n",
       "      <td>581</td>\n",
       "    </tr>\n",
       "    <tr>\n",
       "      <th>36-45</th>\n",
       "      <td>363</td>\n",
       "      <td>546</td>\n",
       "    </tr>\n",
       "    <tr>\n",
       "      <th>46-55</th>\n",
       "      <td>321</td>\n",
       "      <td>385</td>\n",
       "    </tr>\n",
       "    <tr>\n",
       "      <th>56-65</th>\n",
       "      <td>261</td>\n",
       "      <td>259</td>\n",
       "    </tr>\n",
       "    <tr>\n",
       "      <th>66+</th>\n",
       "      <td>233</td>\n",
       "      <td>198</td>\n",
       "    </tr>\n",
       "  </tbody>\n",
       "</table>\n",
       "</div>"
      ],
      "text/plain": [
       "लिङ्ग        पुरुष  महिला\n",
       "उमेर (वर्ष)              \n",
       "16-25          343    290\n",
       "26-35          456    581\n",
       "36-45          363    546\n",
       "46-55          321    385\n",
       "56-65          261    259\n",
       "66+            233    198"
      ]
     },
     "execution_count": 10,
     "metadata": {},
     "output_type": "execute_result"
    }
   ],
   "source": [
    "crosstb"
   ]
  },
  {
   "cell_type": "markdown",
   "id": "11f38fff",
   "metadata": {},
   "source": [
    "## Distribution of Voter in Age and Gender"
   ]
  },
  {
   "cell_type": "code",
   "execution_count": 11,
   "id": "7170adb4",
   "metadata": {},
   "outputs": [
    {
     "data": {
      "text/plain": [
       "<Figure size 1152x648 with 0 Axes>"
      ]
     },
     "metadata": {},
     "output_type": "display_data"
    },
    {
     "data": {
      "image/png": "[encoded data removed]",
      "text/plain": [
       "<Figure size 432x288 with 1 Axes>"
      ]
     },
     "metadata": {
      "needs_background": "light"
     },
     "output_type": "display_data"
    }
   ],
   "source": [
    "import matplotlib.pyplot as plt\n",
    "plt.figure(figsize=(16,9))\n",
    "\n",
    "\n",
    "plt.rc('font', family='Lohit Devanagari',size=12)\n",
    "crosstb.plot.bar(rot=0)\n",
    "plt.title('सुनवल-१ मतदाता',fontsize=20)\n",
    "plt.show()"
   ]
  },
  {
   "cell_type": "markdown",
   "id": "ddc1a663",
   "metadata": {},
   "source": [
    "## Distribution of Voter in Age"
   ]
  },
  {
   "cell_type": "code",
   "execution_count": 12,
   "id": "38469843",
   "metadata": {},
   "outputs": [
    {
     "data": {
      "text/plain": [
       "<AxesSubplot:xlabel='उमेर (वर्ष)', ylabel='Count'>"
      ]
     },
     "execution_count": 12,
     "metadata": {},
     "output_type": "execute_result"
    },
    {
     "data": {
      "image/png": "[encoded data removed]",
      "text/plain": [
       "<Figure size 432x288 with 1 Axes>"
      ]
     },
     "metadata": {
      "needs_background": "light"
     },
     "output_type": "display_data"
    }
   ],
   "source": [
    "sns.histplot(x=df['उमेर (वर्ष)'])"
   ]
  },
  {
   "cell_type": "markdown",
   "id": "fd1c1aea",
   "metadata": {},
   "source": [
    "## Distribution of Voters in Relation Status"
   ]
  },
  {
   "cell_type": "code",
   "execution_count": 13,
   "id": "cf1ded54",
   "metadata": {},
   "outputs": [],
   "source": [
    "df['Relation Status'] = ['Couple' if len(x.replace(\" \",\"\"))>2 else 'Single' for x in df['पति/पत्नीको नाम']]"
   ]
  },
  {
   "cell_type": "code",
   "execution_count": 14,
   "id": "3ff78009",
   "metadata": {},
   "outputs": [
    {
     "data": {
      "image/png": "[encoded data removed]",
      "text/plain": [
       "<Figure size 720x432 with 1 Axes>"
      ]
     },
     "metadata": {},
     "output_type": "display_data"
    }
   ],
   "source": [
    "plt.figure(figsize=(10,6))\n",
    "plt.rc('font',size=14)\n",
    "plt.title('Sunwal Ward 1 voters(Relation Status)',fontsize=20)\n",
    "\n",
    "ax = df['Relation Status'].value_counts().plot(kind='pie',autopct='%1.1f%%')\n",
    "plt.show()"
   ]
  },
  {
   "cell_type": "markdown",
   "id": "2ba4e2ee",
   "metadata": {},
   "source": [
    "## Distribution of Voters in Terms of Gender"
   ]
  },
  {
   "cell_type": "code",
   "execution_count": 15,
   "id": "066738d2",
   "metadata": {},
   "outputs": [
    {
     "data": {
      "image/png": "[encoded data removed]",
      "text/plain": [
       "<Figure size 720x432 with 1 Axes>"
      ]
     },
     "metadata": {},
     "output_type": "display_data"
    }
   ],
   "source": [
    "plt.figure(figsize=(10,6))\n",
    "plt.rc('font',size=14)\n",
    "plt.title('Sunwal Ward 1 voters(Gender)',fontsize=20)\n",
    "\n",
    "ax = df['लिङ्ग'].value_counts().plot(kind='pie',autopct='%1.1f%%')\n",
    "plt.show()"
   ]
  },
  {
   "cell_type": "markdown",
   "id": "5fd7a5ac",
   "metadata": {},
   "source": [
    "## Eldest Voters in Sunwal-1"
   ]
  },
  {
   "cell_type": "code",
   "execution_count": 16,
   "id": "b9cb11b4",
   "metadata": {},
   "outputs": [
    {
     "data": {
      "text/html": [
       "<div>\n",
       "<style scoped>\n",
       "    .dataframe tbody tr th:only-of-type {\n",
       "        vertical-align: middle;\n",
       "    }\n",
       "\n",
       "    .dataframe tbody tr th {\n",
       "        vertical-align: top;\n",
       "    }\n",
       "\n",
       "    .dataframe thead th {\n",
       "        text-align: right;\n",
       "    }\n",
       "</style>\n",
       "<table border=\"1\" class=\"dataframe\">\n",
       "  <thead>\n",
       "    <tr style=\"text-align: right;\">\n",
       "      <th></th>\n",
       "      <th>मतदाता नं</th>\n",
       "      <th>मतदाताको नाम</th>\n",
       "      <th>उमेर (वर्ष)</th>\n",
       "      <th>लिङ्ग</th>\n",
       "      <th>पति/पत्नीको नाम</th>\n",
       "      <th>पिता/माताको नाम</th>\n",
       "      <th>Relation Status</th>\n",
       "    </tr>\n",
       "  </thead>\n",
       "  <tbody>\n",
       "    <tr>\n",
       "      <th>3197</th>\n",
       "      <td>13517447</td>\n",
       "      <td>विनमाधव भट्टराई</td>\n",
       "      <td>109</td>\n",
       "      <td>पुरुष</td>\n",
       "      <td>तुल्‍सा कुमारी</td>\n",
       "      <td>खेम प्रसाद/ कुन्‍ता</td>\n",
       "      <td>Couple</td>\n",
       "    </tr>\n",
       "    <tr>\n",
       "      <th>3398</th>\n",
       "      <td>13517357</td>\n",
       "      <td>शम्भु नाथ कुंवर</td>\n",
       "      <td>109</td>\n",
       "      <td>पुरुष</td>\n",
       "      <td>गंगा</td>\n",
       "      <td>राम प्रसाद/ फुल कुमारी</td>\n",
       "      <td>Couple</td>\n",
       "    </tr>\n",
       "    <tr>\n",
       "      <th>3949</th>\n",
       "      <td>20036084</td>\n",
       "      <td>सुमन थापा मगर</td>\n",
       "      <td>109</td>\n",
       "      <td>पुरुष</td>\n",
       "      <td>-</td>\n",
       "      <td>चुरा वहादुर थापा/ मन माया</td>\n",
       "      <td>Single</td>\n",
       "    </tr>\n",
       "  </tbody>\n",
       "</table>\n",
       "</div>"
      ],
      "text/plain": [
       "      मतदाता नं     मतदाताको नाम  उमेर (वर्ष)  लिङ्ग पति/पत्नीको नाम  \\\n",
       "3197   13517447  विनमाधव भट्टराई          109  पुरुष  तुल्‍सा कुमारी   \n",
       "3398   13517357  शम्भु नाथ कुंवर          109  पुरुष            गंगा   \n",
       "3949   20036084    सुमन थापा मगर          109  पुरुष               -   \n",
       "\n",
       "                पिता/माताको नाम Relation Status  \n",
       "3197        खेम प्रसाद/ कुन्‍ता          Couple  \n",
       "3398     राम प्रसाद/ फुल कुमारी          Couple  \n",
       "3949  चुरा वहादुर थापा/ मन माया          Single  "
      ]
     },
     "execution_count": 16,
     "metadata": {},
     "output_type": "execute_result"
    }
   ],
   "source": [
    "df[df['उमेर (वर्ष)']==df['उमेर (वर्ष)'].max()]"
   ]
  },
  {
   "cell_type": "markdown",
   "id": "62eb9c9f",
   "metadata": {},
   "source": [
    "## Average Age of Voters in terms of Gender"
   ]
  },
  {
   "cell_type": "code",
   "execution_count": 17,
   "id": "cc071917",
   "metadata": {},
   "outputs": [
    {
     "data": {
      "text/plain": [
       "<AxesSubplot:xlabel='लिङ्ग', ylabel='उमेर (वर्ष)'>"
      ]
     },
     "execution_count": 17,
     "metadata": {},
     "output_type": "execute_result"
    },
    {
     "data": {
      "image/png": "[encoded data removed]",
      "text/plain": [
       "<Figure size 432x288 with 1 Axes>"
      ]
     },
     "metadata": {
      "needs_background": "light"
     },
     "output_type": "display_data"
    }
   ],
   "source": [
    "sns.barplot(x=df['लिङ्ग'],y=df['उमेर (वर्ष)'])"
   ]
  },
  {
   "cell_type": "markdown",
   "id": "b73dee91",
   "metadata": {},
   "source": [
    "## Age Distribution of Voters in Terms of Gender\n",
    "### - It tells that males has more outliers in maximum ages.\n",
    "### - It tells that females age is slightly more condense than of males."
   ]
  },
  {
   "cell_type": "code",
   "execution_count": 18,
   "id": "81a08331",
   "metadata": {},
   "outputs": [
    {
     "data": {
      "text/plain": [
       "<AxesSubplot:xlabel='लिङ्ग', ylabel='उमेर (वर्ष)'>"
      ]
     },
     "execution_count": 18,
     "metadata": {},
     "output_type": "execute_result"
    },
    {
     "data": {
      "image/png": "[encoded data removed]",
      "text/plain": [
       "<Figure size 432x288 with 1 Axes>"
      ]
     },
     "metadata": {
      "needs_background": "light"
     },
     "output_type": "display_data"
    }
   ],
   "source": [
    "sns.boxplot(x=df['लिङ्ग'],y=df['उमेर (वर्ष)'])"
   ]
  },
  {
   "cell_type": "markdown",
   "id": "c01ffedd",
   "metadata": {},
   "source": [
    "## Age Distribution of Voters [Distplot]"
   ]
  },
  {
   "cell_type": "code",
   "execution_count": 19,
   "id": "ac04914b",
   "metadata": {},
   "outputs": [
    {
     "name": "stderr",
     "output_type": "stream",
     "text": [
      "/home/prototype/miniconda3/lib/python3.9/site-packages/seaborn/distributions.py:2619: FutureWarning: `distplot` is a deprecated function and will be removed in a future version. Please adapt your code to use either `displot` (a figure-level function with similar flexibility) or `kdeplot` (an axes-level function for kernel density plots).\n",
      "  warnings.warn(msg, FutureWarning)\n",
      "/home/prototype/miniconda3/lib/python3.9/site-packages/seaborn/distributions.py:2619: FutureWarning: `distplot` is a deprecated function and will be removed in a future version. Please adapt your code to use either `displot` (a figure-level function with similar flexibility) or `kdeplot` (an axes-level function for kernel density plots).\n",
      "  warnings.warn(msg, FutureWarning)\n"
     ]
    },
    {
     "data": {
      "text/plain": [
       "<AxesSubplot:xlabel='उमेर (वर्ष)', ylabel='Density'>"
      ]
     },
     "execution_count": 19,
     "metadata": {},
     "output_type": "execute_result"
    },
    {
     "data": {
      "image/png": "[encoded data removed]",
      "text/plain": [
       "<Figure size 432x288 with 1 Axes>"
      ]
     },
     "metadata": {
      "needs_background": "light"
     },
     "output_type": "display_data"
    }
   ],
   "source": [
    "sns.distplot(df[df['लिङ्ग']=='पुरुष']['उमेर (वर्ष)'],hist=False)\n",
    "sns.distplot(df[df['लिङ्ग']=='महिला']['उमेर (वर्ष)'],hist=False)"
   ]
  }
 ],
 "metadata": {
  "kernelspec": {
   "display_name": "Python 3 (ipykernel)",
   "language": "python",
   "name": "python3"
  },
  "language_info": {
   "codemirror_mode": {
    "name": "ipython",
    "version": 3
   },
   "file_extension": ".py",
   "mimetype": "text/x-python",
   "name": "python",
   "nbconvert_exporter": "python",
   "pygments_lexer": "ipython3",
   "version": "3.9.7"
  }
 },
 "nbformat": 4,
 "nbformat_minor": 5
}
